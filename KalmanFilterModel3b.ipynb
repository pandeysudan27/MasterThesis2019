{
 "cells": [
  {
   "cell_type": "markdown",
   "metadata": {},
   "source": [
    "## Kalman Filters for Generator Model 3b\n",
    "#### Madhusudhan Pandey, with modification by Bernt Lie\n",
    "#### University of South-Eastern Norway\n",
    "#### Spring of 2019"
   ]
  },
  {
   "cell_type": "markdown",
   "metadata": {},
   "source": [
    "#### **Packages and definitions**"
   ]
  },
  {
   "cell_type": "markdown",
   "metadata": {},
   "source": [
    "##### Packages"
   ]
  },
  {
   "cell_type": "code",
   "execution_count": 3,
   "metadata": {},
   "outputs": [],
   "source": [
    "# Introducing packages\n",
    "using DataFrames\n",
    "using CSV\n",
    "using Plots; pyplot()\n",
    "using LaTeXStrings\n",
    "#using JLD\n",
    "using LinearAlgebra\n",
    "using NLsolve\n",
    "using Statistics\n",
    "using DifferentialEquations\n",
    "#using Compat, Random, Distributions"
   ]
  },
  {
   "cell_type": "markdown",
   "metadata": {},
   "source": [
    "##### Definitions"
   ]
  },
  {
   "cell_type": "code",
   "execution_count": 4,
   "metadata": {},
   "outputs": [],
   "source": [
    "figpath = \"C:/Users/Bernt_Lie/OneDrive/Documents/researchUSN/Supervisor/MScThesis/Spring2019/Madhusudhan_Pandey/figs/\"\n",
    "# Linewidths and styles\n",
    "LW1 = 2 \n",
    "LW2 = 1.5\n",
    "LS1 = :solid\n",
    "LS2 = :dot\n",
    "LS3 = :dashdot\n",
    "LS4 = :dash\n",
    "#\n",
    "# markershape=:x, markersize=4, markeralpha=1.0, markercolor=:maroon\n",
    "# markerstrokewidth=1, markerstrokealpha=1.0, markerstrokecolor=:maroon, markerstrokestyle=:solid\n",
    "MK1 =(:x,4,1.0,:maroon,stroke(1,1.0,:maroon,:solid));"
   ]
  },
  {
   "cell_type": "markdown",
   "metadata": {},
   "source": [
    "#### **Data from Aabjøra generator**\n",
    "#### Importing data"
   ]
  },
  {
   "cell_type": "code",
   "execution_count": 5,
   "metadata": {},
   "outputs": [],
   "source": [
    "df=CSV.read(\"realdata.csv\")\n",
    "#load If, It, Twc\n",
    "df_input = df[70:653, [:Column6, :Column13, :Column11 ]]\n",
    "df_output = df[70:653, [:Column7, :Column8]]\n",
    "df_water_temp = df[70:653, [:Column10, :Column9]]\n",
    "If_s, It_s, Twc_s = df_input[1],df_input[2],df_input[3]\n",
    "Ts_meas_s, TFe_meas_s = df_output[1], df_output[2]\n",
    "Tac_s, Tah_s = df_water_temp[1],df_water_temp[2]\n",
    "# All data are vectors of strings and missing, so converting\n",
    "# it back to float64\n",
    "#\n",
    "# N measurement data are used\n",
    "N = 584\n",
    "# ny number of outputs: Ts, TFe\n",
    "ny = 2\n",
    "# nu number of inputs: Twc, If, It\n",
    "nu = 3\n",
    "#\n",
    "If,It,Twc,Ts_m,TFe_m =zeros(N),zeros(N),zeros(N),zeros(N),zeros(N)\n",
    "Tac_m, Tah_m = zeros(N), zeros(N)\n",
    "for i in range(1,step=1,N)\n",
    "    If[i]=parse(Float64, If_s[i])\n",
    "    It[i]=parse(Float64, It_s[i])\n",
    "    Twc[i]=parse(Float64, Twc_s[i])\n",
    "    Ts_m[i]=parse(Float64, Ts_meas_s[i])\n",
    "    TFe_m[i]=parse(Float64, TFe_meas_s[i])\n",
    "    Tac_m[i]=parse(Float64, Tac_s[i])\n",
    "    Tah_m[i]=parse(Float64, Tah_s[i])\n",
    "end"
   ]
  },
  {
   "cell_type": "markdown",
   "metadata": {},
   "source": [
    "#### Storing measurements"
   ]
  },
  {
   "cell_type": "code",
   "execution_count": 6,
   "metadata": {},
   "outputs": [],
   "source": [
    "y_m = [[Ts_m[i],TFe_m[i]] for i in 1:N];"
   ]
  },
  {
   "cell_type": "markdown",
   "metadata": {},
   "source": [
    "#### **Simulation model**\n",
    "#### Inputs"
   ]
  },
  {
   "cell_type": "code",
   "execution_count": 7,
   "metadata": {},
   "outputs": [],
   "source": [
    "# If, imported from CSV file\n",
    "# It, imported from CSV file\n",
    "# Twc, imported from CSV file\n",
    "QdFes = 212.\n",
    "Wdf = 528.\n",
    "Qdfs = 0.8*Wdf # Efficient heating in air gap due to friction\n",
    "mdw = 48.51\n",
    "mda = 44.28;"
   ]
  },
  {
   "cell_type": "markdown",
   "metadata": {},
   "source": [
    "#### Parameters"
   ]
  },
  {
   "cell_type": "code",
   "execution_count": 8,
   "metadata": {},
   "outputs": [],
   "source": [
    "pa = 1.01e5 # Atmospheric pressure , Pa\n",
    "#\n",
    "# Heat capacities\n",
    "chpa = 1.012#1.15 # Specific heat capacity air , kJ.kg-1.K-1  \n",
    "chpw = 4.1813#4.2 # Specific heat capacity water , kJ.kg-1.K-1 \n",
    "chpCu = 0.385#0.385 # Specific heat capacity copper , kJ.kg-1.K -1 \n",
    "chpFe = 0.412#0.465 # Specific heat capacity iron , kJ.kg-1.K-1 \n",
    "#\n",
    "# Metal massses\n",
    "mr = 9260. # Mass of copper in rotor , kg\n",
    "ms = 6827. # Mass of copper in stator , kg\n",
    "mFe = 71200. # Mass of iron in stator , kg\n",
    "#\n",
    "# Specific volumes (inverse of density)\n",
    "VhCu = 0.112e-3 # Specific volume of copper , m3/kg \n",
    "VhFe = 0.127e-3 # Specific volume of iron , m3/kg \n",
    "#\n",
    "# Resulting volumes\n",
    "Vr = mr*VhCu # Rotor copper volume , m3  \n",
    "Vs = ms*VhCu # Stator copper volume , m3 \n",
    "VFe = mFe*VhFe # Stator iron volume , m3 \n",
    "#\n",
    "# Heat transfer (heat transfer coefficient x area), fluids to solid\n",
    "hAax = 55.6 # Heat transfer from air to solid, kW/K\n",
    "hAwx = 222. # Heat transfer from water to solid, kW/K\n",
    "#\n",
    "# Overall heat transfer (overall heat transfer coeffcients x area)\n",
    "UAx = 1/(1/hAax+1/hAwx) # Overall heat transfer air-to-water, kW/K\n",
    "UAr2d = 2.96 #2.835  #2.7 # Heat transfer, rotor copper to air gap, kW/K \n",
    "UAs2Fe = 18 #19.#20. # Heat transfer, stator copper to stator iron, kW/K \n",
    "UAFe2a = 12.87 #13.585 # 14.285 # 14.3 # Heat transfer, rotor iron to hot air, kW/K \n",
    "#\n",
    "# Stanton numbers for heat exchanger\n",
    "NSta = UAx/chpa/(mda)\n",
    "NStw = UAx/chpw/(mdw)\n",
    "NStd = NStw - NSta\n",
    "#\n",
    "# Enthalpies of formation\n",
    "Hha_o = 0. # Enthalpy of formation air, kJ/kg\n",
    "HhCu_o = 0. # Enthalpy of formation copper, kJ/kg \n",
    "HhFe_o = 0. # Enthalpy of formation iron, kJ/kg\n",
    "#\n",
    "# Standard state temperatures\n",
    "Ta_o = 25. # Standard state temperature air, C\n",
    "TCu_o = 25. # Standard state temperature copper, C\n",
    "TFe_o = 25. # Standard state temperature iron, C\n",
    "#\n",
    "# Copper conductor resistances\n",
    "Rr = 0.127e-3 # Ohmic resistance, rotor copper, kOhm, at 25 C\n",
    "Rs = 1.95e-6  # Ohmic resistance, stator copper, kOhm, at 25 C\n",
    "#\n",
    "alphaCu = 0.00404 # Temperature coefficient of resistance for copper\n",
    "R = 8.314 # \" J.K-1.mol-1 # \"\n",
    "MCu = 63.54 # \" Molecular mass of Copper, g/mol\"\n",
    "MFe = 55.84 # \"Molecular mass of Iron, g/mol\"\n",
    "Ma = 28.97 # \"Molecular mass of Air, g/mol\"\n",
    "Mw = 18.01 # \"Molecular mass of Water, g/mol\"\n",
    "# Linear approximation of NASA lewis coefficients\n",
    "aa,ba,aw,bw,aCu,bCu,aFe,bFe=3.28,0.000672,3.63,0.001272,2.56,0.001200,0.19,0.00676\n",
    "\n",
    "# Vector of parameters\n",
    "par = [pa,chpa,chpw,chpCu,chpFe,mr,ms,mFe,VhCu,VhFe,\n",
    "    Vr,Vs,VFe,UAr2d,UAs2Fe,UAFe2a,Hha_o,HhCu_o,\n",
    "    HhFe_o,Ta_o,TCu_o,TFe_o,Rr,Rs,Qdfs,hAax,hAwx,UAx,NStw,NSta,NStd];"
   ]
  },
  {
   "cell_type": "markdown",
   "metadata": {},
   "source": [
    "#### Models\n",
    "##### Algebraic variables"
   ]
  },
  {
   "cell_type": "code",
   "execution_count": 9,
   "metadata": {},
   "outputs": [
    {
     "data": {
      "text/plain": [
       "z_k (generic function with 1 method)"
      ]
     },
     "execution_count": 9,
     "metadata": {},
     "output_type": "execute_result"
    }
   ],
   "source": [
    "# Given x_k = (Tr,Ts,TFe) at time index k,\n",
    "# this function returns z_k = (Tac,Tad,Tah) at time index k\n",
    "function z_k(x_k,k)\n",
    "    Tr,Ts,TFe = x_k\n",
    "    function f!(F, z)\n",
    "        Tac,Tad,Tah = z[1], z[2], z[3]\n",
    "        F[1] = mda*R/Ma*((aa+ba*Tac)*Tac-(aa+ba*Tad)*Tad)+UAr2d*(Tr-Tad)+Qdfs\n",
    "        F[2] = mda*R/Ma*((aa+ba*Tad)*Tad-(aa+ba*Tah)*Tah)+UAFe2a*(TFe-Tah)\n",
    "        #F[3] = Tac*(NStw-NSta*exp(-NStd))-NStd*Tah-NSta*(1-exp(-NStd))*Twc[k]\n",
    "        Up = 44.46;\n",
    "        # solving for Tac function\n",
    "        #length span of heat exchanger\n",
    "        xspan=(0.0,1.)\n",
    "        function heat_exchanger!(dT,T,par,t)\n",
    "            # Counter-current \n",
    "            dT[1]=Up/(R/Ma*(aa+ba*T[1])*mda)*(T[2]-T[1])\n",
    "            dT[2]=Up/(R/Mw*(aw+bw*T[2])*mdw)*(T[2]-T[1])\n",
    "        end\n",
    "        #initialGuess=[Tah,Twh]\n",
    "        initial_guess=[Ta_o,Twc[k]]\n",
    "        function boundary_condition!(residual,T,par,t)\n",
    "            residual[1]=T[1][1]-Tah\n",
    "            residual[2]=T[end][2]-Twc[k]\n",
    "        end\n",
    "        bvp=BVProblem(heat_exchanger!,boundary_condition!,initial_guess,xspan,par)\n",
    "        sol=solve(bvp, Shooting(Vern7()))\n",
    "        a,b=sol(1) #solves for Tac,Twc\n",
    "        c,d=sol(0) #solves for Tah,Twh\n",
    "        F[3] = Tac - a   \n",
    "    end\n",
    "    return nlsolve(f!,[Ta_o,Ta_o,Ta_o]).zero   \n",
    "end"
   ]
  },
  {
   "cell_type": "markdown",
   "metadata": {},
   "source": [
    "##### One step ahead state predictor"
   ]
  },
  {
   "cell_type": "code",
   "execution_count": 10,
   "metadata": {},
   "outputs": [
    {
     "data": {
      "text/plain": [
       "x_kp1 (generic function with 1 method)"
      ]
     },
     "execution_count": 10,
     "metadata": {},
     "output_type": "execute_result"
    }
   ],
   "source": [
    "# Given x_k = (Tr,Ts,TFe) at time index k, z_k = (Tac,Tad,Tah) at time index k\n",
    "# and wx_k at time index k, this function returns x_kp1 at time index k+1\n",
    "#\n",
    "# Sample time for measurements\n",
    "dt = 60 # Discretization time, s\n",
    "#\n",
    "# Number nx of states x; number nz of algebraic variables nz\n",
    "nx = 3\n",
    "nz = 3\n",
    "#\n",
    "# Prediktor, using Explicit Euler\n",
    "function x_kp1(x_k,z_k,wx_k,k)\n",
    "    Tr,Ts,TFe = x_k\n",
    "    Tac,Tad,Tah = z_k\n",
    "    wTr,wTs,wTFe = wx_k\n",
    "    #\n",
    "    # Vector fields\n",
    "    fTr = (1.1*Rr*If[k]^2-UAr2d*(Tr-Tad))/(mr*R/MCu*(aCu+bCu*Tr))\n",
    "    fTs = (3*Rs*It[k]^2-UAs2Fe*(Ts-TFe))/(ms*R/MCu*(aCu+bCu*Ts))\n",
    "    fTFe = (UAs2Fe*(Ts-TFe)-UAFe2a*(TFe-Tah)+QdFes)/(mFe*R/MFe*(aFe+bFe*TFe))\n",
    "    #\n",
    "    # Euler integration + addition of discrete state disturbance\n",
    "    Tr = Tr + dt*fTr + wTr\n",
    "    Ts = Ts + dt*fTs + wTs\n",
    "    TFe = TFe + dt*fTFe + wTFe\n",
    "    return [Tr,Ts,TFe]\n",
    "end"
   ]
  },
  {
   "cell_type": "markdown",
   "metadata": {},
   "source": [
    "##### Outputs and Output Subsampling Indices"
   ]
  },
  {
   "cell_type": "code",
   "execution_count": 11,
   "metadata": {},
   "outputs": [],
   "source": [
    "# Given x_k = (Tr,Ts,TFe), compute output y_k = (Ts,TFe)\n",
    "function y_k(x_k)\n",
    "    return x_k[[2,3]]\n",
    "end\n",
    "#\n",
    "# Subsampling of outputs\n",
    "idx = 1:20:N;"
   ]
  },
  {
   "cell_type": "markdown",
   "metadata": {},
   "source": [
    "#### **Statistical description: state disturbance, noise, and initial value**"
   ]
  },
  {
   "cell_type": "code",
   "execution_count": 12,
   "metadata": {},
   "outputs": [],
   "source": [
    "#\n",
    "# Statistical description of state disturbance, measurement noise, and initial state\n",
    "#\n",
    "# Process state disturbance covariance W and Process state disturbance standard deviation sW\n",
    "W = diagm(0=>[2^2,2^2,2^2])\n",
    "sW = sqrt(W)\n",
    "#\n",
    "# Measurement noise covariance V and Measurement noise standard deviation sV\n",
    "V = diagm(0 => [1^2,1^2])\n",
    "sV = sqrt(V)\n",
    "#\n",
    "# Initial state\n",
    "x1 = [28.,Ts_m[1],TFe_m[1]]\n",
    "#\n",
    "# Initial state covariance X1 and Initial state standard deviation sX1\n",
    "#\n",
    "mux = 10;\n",
    "X1 = mux*W\n",
    "sX1 = sqrt(X1);"
   ]
  },
  {
   "cell_type": "markdown",
   "metadata": {},
   "source": [
    "#### **Ensemble Kalman Filter**\n",
    "#### Storage arrays and Initialization"
   ]
  },
  {
   "cell_type": "markdown",
   "metadata": {},
   "source": [
    "#### Ensemble Kalman Filter"
   ]
  },
  {
   "cell_type": "code",
   "execution_count": 13,
   "metadata": {},
   "outputs": [
    {
     "data": {
      "text/plain": [
       "EnKF (generic function with 1 method)"
      ]
     },
     "execution_count": 13,
     "metadata": {},
     "output_type": "execute_result"
    }
   ],
   "source": [
    "#particle=Numbers of ensemble members\n",
    "function EnKF(particles)\n",
    "    np=particles\n",
    "    #np = 10\n",
    "    # Initialization\n",
    "    XX_pr = zeros(nx,N,np) # Priori particles\n",
    "    XX_po = zeros(nx,N,np) # Posteriori particles\n",
    "    ZZ = zeros(nz,N,np) # Best (posteriori) algebraic particles \n",
    "    YY_pr = zeros(ny,N,np) # Priori output particles\n",
    "    #\n",
    "    # Initialization for covariance residue\n",
    "    cov_residue = zeros(ny,ny,N)\n",
    "    # Initialization\n",
    "    #\n",
    "    # Drawing initial state for particles\n",
    "    XX_po[:,1,:] = kron(x1,ones(1,np)) + sX1*randn(nx,np)\n",
    "    XX_pr = XX_po\n",
    "    #\n",
    "    # Computing initial algebraic variables for particles\n",
    "    ZZ[:,1,:] = reduce(hcat,[z_k(XX_po[:,1,p],1) for p in 1:np])\n",
    "    #\n",
    "    # Computing initial noisy outputs for particles\n",
    "    YY_pr[:,1,:] = reduce(hcat,[y_k(XX_pr[:,1,p]) for p in 1:np]) + sV*randn(ny,np);\n",
    "    cov_residue[:,:,1] = cov(YY_pr[:,1,:], dims=2)\n",
    "    for k in 2:N\n",
    "        #\n",
    "        # Predicting states for every particle\n",
    "        for p in 1:np\n",
    "            XX_pr[:,k,p] = x_kp1(XX_po[:,k-1,p],ZZ[:,k-1,p],sW*randn(nx),k-1)\n",
    "        end\n",
    "        # Predicting outputs for every particle\n",
    "        YY_pr[:,k,:] = reduce(hcat,[y_k(XX_pr[:,k,p]) for p in 1:np]) + sV*randn(ny,np);\n",
    "        # Computing Kalman gain\n",
    "        Z = cov(XX_pr[:,k,:],YY_pr[:,k,:],dims=2)\n",
    "        E = cov(YY_pr[:,k,:],dims=2)\n",
    "        K = Z/E\n",
    "        # Computing posteriori particles\n",
    "        for p in 1:np\n",
    "            XX_po[:,k,p] = XX_pr[:,k,p] + K*(y_m[k]- YY_pr[:,k,p])\n",
    "        end\n",
    "        # Updating cov_residue\n",
    "        cov_residue[:,:,k] = E\n",
    "        # Updating algebraic variables for every particle\n",
    "        ZZ[:,k,:] = reduce(hcat,[z_k(XX_po[:,k,p],k) for p in 1:np])\n",
    "    end \n",
    "    # Mean and standard deviations of quantities\n",
    "    x_pr = mean(XX_pr,dims=3)[:,:,1]\n",
    "    x_pr_s = std(XX_pr,dims=3)[:,:,1]\n",
    "    x_po = mean(XX_po,dims=3)[:,:,1]\n",
    "    x_po_s = std(XX_po,dims=3)[:,:,1]\n",
    "    z = mean(ZZ,dims=3)[:,:,1]\n",
    "    z_s = std(ZZ,dims=3)[:,:,1]\n",
    "    y_pr = mean(YY_pr,dims=3)[:,:,1];\n",
    "    y_pr_s = std(YY_pr,dims=3)[:,:,1];\n",
    "    return [x_po,z,y_pr,cov_residue]\n",
    "end"
   ]
  },
  {
   "cell_type": "code",
   "execution_count": null,
   "metadata": {},
   "outputs": [],
   "source": [
    "# Coparing simulation time Running 50 times for\n",
    "particles=(10,50,100,1000)\n",
    "Nruntime=50\n",
    "e=zeros(length(particles),Nruntime)\n",
    "E=zeros(length(particles),Nruntime)\n",
    "time=zeros(length(particles),Nruntime)\n",
    "for (index,value) in enumerate(particles)\n",
    "    for i in 1:Nruntime\n",
    "        time[index,i]=@elapsed EnKF(value)\n",
    "        x_po,z,y_pr,cov_residue=EnKF(value)\n",
    "        e[index,i]=sqrt(sum((y_pr'-hcat(y_m...)').^2)/N)\n",
    "        E[index,i]=sqrt(sum(cov_residue.^2.)/N)\n",
    "    end\n",
    "end\n",
    "mean(time,dims=2)\n",
    "mean(e,dims=2)\n",
    "mean(E,dims=2)"
   ]
  },
  {
   "cell_type": "markdown",
   "metadata": {},
   "source": [
    "#### **Unscented Kalman Filter**\n",
    "#### Utility functions"
   ]
  },
  {
   "cell_type": "code",
   "execution_count": 14,
   "metadata": {},
   "outputs": [
    {
     "data": {
      "text/plain": [
       "sigma_statistics (generic function with 1 method)"
      ]
     },
     "execution_count": 14,
     "metadata": {},
     "output_type": "execute_result"
    }
   ],
   "source": [
    "# Function to convert mean x + covariance matrix X, dim(X) = nx*nx, into matrix of sigma points sigX, dim(sigX) = nx*nz\n",
    "function sigma_points(x,X;nsig=0,α=1e-3,κ=0,β=2)\n",
    "    sx = size(x)\n",
    "    sX = size(X)\n",
    "    nx = sx[1]\n",
    "    if (length(sx)==1) && (length(sX)==2) && (sX[1]==sX[2]==nx)\n",
    "        if nsig==0\n",
    "            sigX = Matrix{Float64}(undef,nx,2nx)\n",
    "            X_ = cholesky(nx*Hermitian(X)).U\n",
    "            sigX[:,1:nx] = x .+ X_\n",
    "            sigX[:,nx+1:2nx] = x .- X_\n",
    "            return sigX,1\n",
    "        else\n",
    "            sigX = Matrix{Float64}(undef,nx,2nx+1)\n",
    "            λ = α^2*(nx+κ)-nx\n",
    "            X_ = cholesky((nx+λ)*Hermitian(X)).U\n",
    "            sigX[:,1] = x\n",
    "            sigX[:,2:nx+1] = x .+ X_\n",
    "            sigX[:,nx+2:2nx+1] = x .- X_\n",
    "            #\n",
    "            ζ_m0 = λ/(nx+λ)\n",
    "            ζ_c0 = ζ_m0 + (1 - α^2 + β)\n",
    "            ζ_i = 1/(2nx+2λ)\n",
    "            return sigX,[ζ_m0,ζ_c0,ζ_i]\n",
    "        end\n",
    "    else\n",
    "        return \"Incorrect input data\"\n",
    "    end\n",
    "end    \n",
    "#\n",
    "# Function to compute weighted average and covariance for sigma points\n",
    "function sigma_statistics(sigX,ζ)\n",
    "    nzeta = length(ζ)\n",
    "    if nzeta == 1\n",
    "        nx = size(sigX,1)\n",
    "        x_ = mean(sigX,dims=2)\n",
    "        X = cov(sigX,dims=2,corrected=false)\n",
    "    else\n",
    "        ns = size(sigX,2)\n",
    "        ζ_m0 = ζ[1]\n",
    "        ζ_c0 = ζ[2]\n",
    "        ζ_i = ζ[3]\n",
    "        #\n",
    "        x_ = ζ_m0*sigX[:,1] + (ns-1)*ζ_i*mean(sigX[:,2:end],dims=2) \n",
    "        X = ζ_c0*(sigX[:,1]-x_)*(sigX[:,1]-x_)' + (ns-1)*ζ_i*cov(sigX[:,2:end].-x_,dims=2,corrected=false)\n",
    "    end\n",
    "    X = Hermitian(X)\n",
    "    return x_,X\n",
    "end"
   ]
  },
  {
   "cell_type": "markdown",
   "metadata": {},
   "source": [
    "$\\bar{y} = \\sum_i \\zeta_i^{m} y_i$, while $Y = \\sum_i \\zeta_i^{c} (y_i - \\bar{y})(y_i - \\bar{y})^T$"
   ]
  },
  {
   "cell_type": "markdown",
   "metadata": {},
   "source": [
    "#### 1. UKF type (sigma points, type of noise)"
   ]
  },
  {
   "cell_type": "code",
   "execution_count": 15,
   "metadata": {},
   "outputs": [
    {
     "data": {
      "text/plain": [
       "UKF_Type (generic function with 1 method)"
      ]
     },
     "execution_count": 15,
     "metadata": {},
     "output_type": "execute_result"
    }
   ],
   "source": [
    "# nsig=0 implies 2*nx sigma points; nsig<>1 implies 2*nx+1 sigma points\n",
    "#nsig = 0\n",
    "# noise_map=0 implies assuming linear, additive noise; noise_map<>0 removes assumption of linear noise map\n",
    "#noise_map= 0;\n",
    "function UKF_Type(nsig, noise_map)\n",
    "    # Initialization\n",
    "    # N measurement data, nx states, nz algebraic variables, ny measurements\n",
    "    xu_pr = zeros(nx,N) # Priori states\n",
    "    xu_po = zeros(nx,N) # Posteriori states\n",
    "    zu = zeros(nz,N) # Best (posteriori) algebraic values \n",
    "    yu_pr = zeros(ny,N) # Priori output values\n",
    "    #\n",
    "    # Standard deviation\n",
    "    xu_pr_s = zeros(nx,N) # Priori state std\n",
    "    xu_po_s = zeros(nx,N) # Posteriori states std\n",
    "    zu_s = zeros(nz,N) # Best (posteriori) algebraic value std \n",
    "    yu_pr_s = zeros(ny,N) # Priori output value std\n",
    "    #\n",
    "     # Initialization for covariance residue\n",
    "    cov_residue = zeros(ny,ny,N)\n",
    "    # Sigma matrices\n",
    "    if nsig == 0\n",
    "        if noise_map == 0\n",
    "            ns = 2nx\n",
    "        else\n",
    "            ns = 4nx+2ny\n",
    "        end\n",
    "    else\n",
    "        if noise_map == 0\n",
    "            ns = 2nx+1\n",
    "        else\n",
    "            ns = 4nx+2ny+1\n",
    "        end\n",
    "    end\n",
    "    XXu_po = zeros(nx,ns)\n",
    "    ZZu = zeros(nz,ns)\n",
    "    XXu_pr = zeros(nx,ns)\n",
    "    XXu_pr_y = zeros(nx,ns)\n",
    "    YYu_pr = zeros(ny,ns)\n",
    "    #\n",
    "    # Initialization\n",
    "    #\n",
    "    xu_po[:,1] = x1;\n",
    "    xu_pr[:,1] = x1;\n",
    "    zu[:,1] = z_k(x1,1)\n",
    "    yu_pr[:,1] = y_k(x1);\n",
    "    #\n",
    "    xu_po_s[:,1] = diag(sqrt(X1))\n",
    "    xu_pr_s[:,1] = xu_po_s[:,1];\n",
    "    cov_residue[:,:,1] = [0 0;0 0]\n",
    "    ##\n",
    "    # Implementing UKF\n",
    "    # Initializing current (k-1) posteriori covariance matrix\n",
    "    X_po = X1;\n",
    "    #\n",
    "    # noise_map = 0\n",
    "    if noise_map == 0\n",
    "        # Loops over data\n",
    "        for k in 2:N\n",
    "            #\n",
    "            # Finding sigma points XXu_po for index k-1\n",
    "            XXu_po,zeta = sigma_points(xu_po[:,k-1],X_po;nsig=nsig) \n",
    "            ns = size(XXu_po,2)\n",
    "            #\n",
    "            # Finding sigma points ZZu for index k-1\n",
    "            for i in 1:ns\n",
    "                ZZu[:,i] = z_k(XXu_po[:,i],k-1)\n",
    "            end\n",
    "            # Finding z covariance Z_po at k-1\n",
    "            _, Z_po = sigma_statistics(ZZu,zeta)\n",
    "            ez_min = minimum(eigvals(Z_po))\n",
    "            # ...make sure that the smallest eigenvalue is at least +1e-6\n",
    "            Z_po = Z_po + max(-ez_min-1e-6,1e-6)*I\n",
    "            #\n",
    "            # Predicting sigma states XXu_pr\n",
    "            for i in 1:ns\n",
    "                wx = zeros(3)\n",
    "                XXu_pr[:,i] = x_kp1(XXu_po[:,i],ZZu[:,i],wx,k-1)\n",
    "            end\n",
    "            # Predicting state mean xu_pr and Covariance X_pr\n",
    "            x_,X_ = sigma_statistics(XXu_pr,zeta)\n",
    "            xu_pr[:,k] = x_\n",
    "            X_pr = X_ + W \n",
    "            #\n",
    "            # Predicting sigma outputs YYu_pr\n",
    "            for i in 1:ns\n",
    "                YYu_pr[:,i] = y_k(XXu_pr[:,i])\n",
    "            end\n",
    "            # Predicting output mean yu_pr over sigma values\n",
    "            y_,Y_ = sigma_statistics(YYu_pr,zeta)\n",
    "            yu_pr[:,k] = y_\n",
    "            E = Y_ + V\n",
    "            #\n",
    "            # Covariance residue\n",
    "            cov_residue[:,:,k]=E\n",
    "            # Computing Kalman gain\n",
    "            Z = cov(XXu_pr,YYu_pr,dims=2,corrected=false)\n",
    "            K = Z/E\n",
    "            #\n",
    "            # Computing posterior values\n",
    "            xu_po[:,k] = xu_pr[:,k] + K*(y_m[k] - yu_pr[:,k])\n",
    "            zu[:,k] = z_k(xu_po[:,k],k)\n",
    "            #\n",
    "            # Computing posterior covariance\n",
    "            X_po = X_pr - K*E*K'\n",
    "            # Computing standard deviations\n",
    "            xu_pr_s[:,k] = diag(sqrt(X_pr))\n",
    "            xu_po_s[:,k] = diag(sqrt(X_po))\n",
    "            yu_pr_s[:,k] = diag(sqrt(E))\n",
    "            zu_s[:,k] = diag(sqrt(Z_po))\n",
    "        end\n",
    "        #\n",
    "        # noise_map <> 0\n",
    "        #\n",
    "    else\n",
    "        # Loops over data\n",
    "        for k in 2:N\n",
    "            #\n",
    "            # Finding sigma points for index k-1\n",
    "            wx = zeros(3)\n",
    "            v = zeros(2)\n",
    "            m_ = vcat(xu_po[:,k-1],wx,v)\n",
    "            M = cat(X_po,W,V,dims=(1,2))\n",
    "            sigM,zeta = sigma_points(m_,M;nsig=nsig)\n",
    "            ns = size(sigM,2)\n",
    "            XXu_po = sigM[1:nx,:]\n",
    "            WW = sigM[nx+1:2nx,:]\n",
    "            VV = sigM[2nx+1:end,:]\n",
    "            #\n",
    "            # Finding sigma points ZZu for index k-1\n",
    "            for i in 1:ns\n",
    "                ZZu[:,i] = z_k(XXu_po[:,i],k-1)\n",
    "            end\n",
    "            # Finding z covariance Z_po at k-1\n",
    "            _, Z_po = sigma_statistics(ZZu,zeta)\n",
    "            ez_min = minimum(eigvals(Z_po))\n",
    "            Z_po = Z_po + max(-ez_min-1e-6,1e-6)*I\n",
    "            #\n",
    "            # Predicting sigma states XXu_pr\n",
    "            for i in 1:ns\n",
    "                XXu_pr[:,i] = x_kp1(XXu_po[:,i],ZZu[:,i],WW[:,i],k-1)\n",
    "            end\n",
    "            # Predicting state mean xu_pr and Covariance X_pr\n",
    "            x_,X_ = sigma_statistics(XXu_pr,zeta)\n",
    "            xu_pr[:,k] = x_\n",
    "            X_pr = X_\n",
    "            #\n",
    "            # Predicting sigma outputs YYu_pr\n",
    "            for i in 1:ns\n",
    "                YYu_pr[:,i] = y_k(XXu_pr[:,i]) + VV[:,i]\n",
    "            end\n",
    "            # Predicting output mean yu_pr over sigma values\n",
    "            y_,Y_ = sigma_statistics(YYu_pr,zeta)\n",
    "            yu_pr[:,k] = y_\n",
    "            E = Y_\n",
    "            #\n",
    "            # Covariance residue\n",
    "            cov_residue[:,:,k]=E\n",
    "            # Computing Kalman gain\n",
    "            Z = cov(XXu_pr,YYu_pr,dims=2,corrected=false)\n",
    "            K = Z/E\n",
    "            #\n",
    "            # Computing posterior values\n",
    "            xu_po[:,k] = xu_pr[:,k] + K*(y_m[k] - yu_pr[:,k])\n",
    "            zu[:,k] = z_k(xu_po[:,k],k)\n",
    "            #\n",
    "            # Computing posterior covariance\n",
    "            X_po = X_pr - K*E*K'\n",
    "            # Computing standard deviations\n",
    "            xu_pr_s[:,k] = diag(sqrt(X_pr))\n",
    "            xu_po_s[:,k] = diag(sqrt(X_po))\n",
    "            yu_pr_s[:,k] = diag(sqrt(E))\n",
    "            zu_s[:,k] = diag(sqrt(Z_po))\n",
    "        end\n",
    "        #\n",
    "    end\n",
    "    return xu_po,zu,yu_pr,cov_residue\n",
    "end"
   ]
  },
  {
   "cell_type": "code",
   "execution_count": 16,
   "metadata": {},
   "outputs": [
    {
     "data": {
      "text/plain": [
       "([28.0 29.0539 … 60.8053 60.761; 31.4186 32.3081 … 68.2709 68.2693; 32.3701 32.5239 … 60.9009 60.9017], [12.8328 12.886 … 17.809 17.8078; 23.2288 23.3475 … 30.0104 30.0063; 25.3692 25.496 … 37.2223 37.2194], [31.4186 33.5846 … 68.1224 68.1185; 32.3701 34.0885 … 61.2894 61.289], [0.0 0.0; 0.0 0.0]\n",
       "\n",
       "[21.0527 16.3895; 16.3895 17.7856]\n",
       "\n",
       "[3.49357 2.05881; 2.05881 3.10764]\n",
       "\n",
       "...\n",
       "\n",
       "[3.42757 2.10181; 2.10181 3.74064]\n",
       "\n",
       "[3.42757 2.10182; 2.10182 3.74066]\n",
       "\n",
       "[3.42758 2.10183; 2.10183 3.74068])"
      ]
     },
     "execution_count": 16,
     "metadata": {},
     "output_type": "execute_result"
    }
   ],
   "source": [
    "# Calling Ensemble Kalam filters\n",
    "xu_po_EnKF50,zu_EnKF50,yu_pr_EnKF50,cov_residue_EnKF50=EnKF(50)\n",
    "xu_po_EnKF100,zu_EnKF100,yu_pr_EnKF100,cov_residue_EnKF100=EnKF(100)\n",
    "xu_po_EnKF500,zu_EnKF500,yu_pr_EnKF500,cov_residue_EnKF500=EnKF(500)\n",
    "xu_po_EnKF1000,zu_EnKF1000,yu_pr_EnKF1000,cov_residue_EnKF1000=EnKF(1000);\n",
    "# Calling UKF\n",
    "xu_po_UKF,zu_UKF,yu_pr_UKF,cov_residue_UKF=UKF_Type(0,0)"
   ]
  },
  {
   "cell_type": "code",
   "execution_count": 18,
   "metadata": {},
   "outputs": [],
   "source": [
    "Model3bUKFEnKF=[xu_po_UKF,zu_UKF,yu_pr_UKF,cov_residue_UKF,xu_po_EnKF50,zu_EnKF50,yu_pr_EnKF50,cov_residue_EnKF50,\n",
    "xu_po_EnKF100,zu_EnKF100,yu_pr_EnKF100,cov_residue_EnKF100,\n",
    "xu_po_EnKF500,zu_EnKF500,yu_pr_EnKF500,cov_residue_EnKF500,\n",
    "xu_po_EnKF1000,zu_EnKF1000,yu_pr_EnKF1000,cov_residue_EnKF1000]\n",
    "\n",
    "# Saving Model 3b for plotting and comparing\n",
    "using JLD\n",
    "save(\"Model3bUKFEnKF.jld\",\"Model3bUKFEnKF\",Model3bUKFEnKF)"
   ]
  },
  {
   "cell_type": "code",
   "execution_count": 19,
   "metadata": {},
   "outputs": [
    {
     "name": "stdout",
     "output_type": "stream",
     "text": [
      "[120.098, 800.113, 1554.97, 9502.35, 16534.2]"
     ]
    }
   ],
   "source": [
    "# Computing computational time\n",
    "time_model3=zeros(5)\n",
    "time_model3[1]=@elapsed UKF_Type(0,0)\n",
    "time_model3[2]=@elapsed EnKF(50)\n",
    "time_model3[3]=@elapsed EnKF(100)\n",
    "time_model3[4]=@elapsed EnKF(500)\n",
    "time_model3[5]=@elapsed EnKF(1000)\n",
    "print(time_model3)"
   ]
  },
  {
   "cell_type": "code",
   "execution_count": null,
   "metadata": {},
   "outputs": [],
   "source": []
  }
 ],
 "metadata": {
  "kernelspec": {
   "display_name": "Julia 1.0.3",
   "language": "julia",
   "name": "julia-1.0"
  },
  "language_info": {
   "file_extension": ".jl",
   "mimetype": "application/julia",
   "name": "julia",
   "version": "1.0.3"
  }
 },
 "nbformat": 4,
 "nbformat_minor": 2
}
