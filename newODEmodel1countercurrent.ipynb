{
 "cells": [
  {
   "cell_type": "code",
   "execution_count": 27,
   "metadata": {},
   "outputs": [
    {
     "data": {
      "image/png": "[encoded data removed]"
     },
     "execution_count": 27,
     "metadata": {},
     "output_type": "execute_result"
    }
   ],
   "source": [
    "## Kalman filter\n",
    "#    counter-current heat exchanger of Model 1\n",
    "#Filename:Kalman-Filter-Model1.ipynb\n",
    "#Author:Madhusudhan Pandey, USN, EPE\n",
    "#Date: March 20, 2019\n",
    "figpath = \"C:/Users/pande/Desktop/Desktop/Thesis/ThesisLyx/figures/chapter3/\";\n",
    "\n",
    "using NLsolve\n",
    "using DifferentialEquations\n",
    "using Plots\n",
    "pyplot();# pyplot attributes on backend\n",
    "using LaTeXStrings;\n",
    "# Linewidths and styles\n",
    "LW1 = 2 \n",
    "LW2 = 1.5\n",
    "LS1 = :solid\n",
    "LS2 = :dot\n",
    "LS3 = :dashdot\n",
    "LS4 = :dash;\n",
    "# inputs (need to specify first than parameters as Qdfs is input dependent and considered as parameters)\n",
    "Twc = 3.8\n",
    "Ifd = 1055.\n",
    "It = 5360.\n",
    "QdFes = 212.\n",
    "Wdf = 528.\n",
    "mdw = 53.9\n",
    "mda = 49.2\n",
    "u = [Twc, Ifd, It, QdFes, Wdf, mdw, mda]\n",
    "#Specifying Parameters\n",
    "pa = 1.01e5 # \" Atmospheric pressure , Pa \"\n",
    "#\n",
    "chpa = 1.15 # \" Specific heat capacity air , kJ.kg -1. K -1 # \" \n",
    "chpw = 4.2 # \" Specific heat capacity water , kJ.kg -1. K -1 # \" \n",
    "chpCu = 0.385 # \" Specific heat capacity copper , kJ.kg -1. K -1 # \" \n",
    "chpFe = 0.465 # \" Specific heat capacity iron , kJ.kg -1. K -1 # \" \n",
    "#\n",
    "mr = 9260. # \" Mass of copper in rotor , kg # \" \n",
    "ms = 6827. # \" Mass of copper in stator , kg # \" \n",
    "mFe = 71200. # \" Mass of iron in stator , kg # \" \n",
    "#\n",
    "VhCu = 0.112e-3 # \" Specific volume of copper , m3 / kg # \" \n",
    "VhFe = 0.127e-3 # \" Specific volume of iron , m3 / kg # \" \n",
    "#\n",
    "Vr = mr*VhCu # \" Rotor copper volume , m3 # \" \n",
    "Vs = ms*VhCu # \" Stator copper volume , m3 # \" \n",
    "VFe = mFe*VhFe # \" Stator iron volume , m3 # \" \n",
    "#\n",
    "UAr2d = 2.7 # \" Heat transfer , rotor copper to air gap , kW / K # \" \n",
    "UAs2Fe = 20. # \" Heat transfer , stator copper to stator iron , kW /K\" \n",
    "UAFe2a = 14.3 # \" Heat transfer , rotor iron to hot air , kW / K # \" \n",
    "Up=0.88 # \"Product of overall heat transfer and perimeter\"\n",
    "#\n",
    "Hha_o = 0. # \" Enthalpy of formation air , kJ / kg \" \n",
    "HhCu_o = 0. # \" Enthalpy of formation copper , kJ / kg # \" \n",
    "HhFe_o = 0. # \" Enthalpy of formation iron , kJ / kg # \" \n",
    "#\n",
    "Ta_o = 25. # \" Standard state temperature air , C # \" \n",
    "TCu_o = 25. # \" Standard state temperature copper , C # \" \n",
    "TFe_o = 25. # \" Standard state temperature iron , C # \" \n",
    "#\n",
    "Rr = 0.16e-3 # \" Ohmic resistance , rotor copper , kOhm, at 25 C # \" \n",
    "Rs = 3.5e-6 # \" Ohmic resistance , stator copper , kOhm, at 25 C\"\n",
    "#\n",
    "aCu = 2.559380892459937\n",
    "bCu = 0.0011982506064166993\n",
    "aFe = 0.19724545575725203\n",
    "bFe = 0.00676358006431966\n",
    "aa = 3.2822556593357177\n",
    "ba = 0.0006721070788120142\n",
    "aw = 3.6394816337401976\n",
    "bw = 0.0012723320470041624\n",
    "alphaCu = 0.00404\n",
    "R = 8.314 # \" J.K-1.mol-1 # \"\n",
    "MCu = 63.54 # \" Molecular mass of Copper, g/mol\"\n",
    "MFe = 55.84 # \"Molecular mass of Iron, g/mol\"\n",
    "Ma = 28.97 # \"Molecular mass of Air, g/mol\"\n",
    "Mw = 18.01 # \"Molecular mass of Water, g/mol\"\n",
    "Qdfs = 0.8*Wdf\n",
    "#tuples of parameters\n",
    "par = [pa,chpa,chpw,chpCu,chpFe,mr,ms,mFe,VhCu,VhFe,\n",
    "    Vr,Vs,VFe,UAr2d,UAs2Fe,UAFe2a,Hha_o,HhCu_o,\n",
    "    HhFe_o,Ta_o,TCu_o,TFe_o,Rr,Rs,aCu,bCu,aFe,bFe,aa,ba,aw,bw,alphaCu,R,MCu,\n",
    "    MFe,Ma,Mw,Qdfs];\n",
    "Tr0, Ts0, TFe0 = 94., 81., 70.\n",
    "temp_of_states = Tr0,Ts0,TFe0\n",
    "# Finding values for Tac, Tad, Tah\n",
    "function find_air_temperatures(temp_of_states, par)\n",
    "    Tr, Ts, TFe= temp_of_states\n",
    "    function f!(F, x)\n",
    "        Tac,Tad,Tah = x[1], x[2], x[3]\n",
    "        F[1] = mda*chpa*(Tac-Tad)+UAr2d*(Tr-Tad)+Qdfs\n",
    "        F[2] = mda*chpa*(Tad-Tah)+UAFe2a*(TFe-Tah)\n",
    "        # solving for Tac function\n",
    "        #length span of heat exchanger\n",
    "        xspan=(0.0,50.0)\n",
    "        function heat_exchanger!(dT,T,par,t)\n",
    "            # countercurrent\n",
    "            #Note that heatexchanger model of bernt lie and that of\n",
    "            #project description x-direction is opposite so we neglect - sign in the formula here\n",
    "            #Ta=T[1]; Tw=T[2]\n",
    "            dT[1]=Up/(chpa*mda)*(T[2]-T[1])\n",
    "            dT[2]=Up/(chpw*mdw)*(T[2]-T[1])\n",
    "        end\n",
    "        #initialGuess=[Tah,Twh]\n",
    "        initial_guess=[Ta_o,Twc]\n",
    "        function bc!(residual,T,par,t)\n",
    "            residual[1]=T[1][1]-Tah\n",
    "            residual[2]=T[end][2]-Twc\n",
    "        end\n",
    "        bvp=BVProblem(heat_exchanger!,bc!,initial_guess,xspan,par)\n",
    "        sol=solve(bvp, Shooting(Vern7()))\n",
    "        a,b=sol(50) #solves for Tac,Twc\n",
    "        c,d=sol(0) #solves for Tah,Twh\n",
    "        #One equation from BVP\n",
    "        F[3] = Tac - a\n",
    "    end\n",
    "    return nlsolve(f!,temp_of_states).zero #returs Tac, Tad, Tah\n",
    "end\n",
    "# Solving ODE\n",
    "dt=10\n",
    "t_sim=range(0,stop=500*60,step=dt)\n",
    "points=length(t_sim)\n",
    "Tr, Ts, TFe, Tac, Tad, Tah = zeros(points,1),zeros(points,1),zeros(points,1),zeros(points,1),zeros(points,1),zeros(points,1) \n",
    "Tr[1], Ts[1], TFe[1] = Tr0, Ts0, TFe0\n",
    "Tac[1], Tad[1], Tah[1] =  find_air_temperatures([Tr0, Ts0, TFe0], par)\n",
    "for i = 1:(length(t_sim)-1)\n",
    "    Tr[i+1]=Tr[i] + dt*(1.1*Rr*Ifd^2-UAr2d*(Tr[i]-Tad[i]))/(mr*chpCu)\n",
    "    Ts[i+1]=Ts[i] + dt*(3*Rs*It^2-UAs2Fe*(Ts[i]-TFe[i]))/(ms*chpCu)\n",
    "    TFe[i+1]=TFe[i] + dt*(UAs2Fe*(Ts[i]-TFe[i])-UAFe2a*(TFe[i]-Tah[i])+QdFes)/(mFe*chpFe)\n",
    "    #temp_of=Tr[i+1], Ts[i+1], TFe[i+1]\n",
    "    Tac[i+1], Tad[i+1], Tah[i+1]=find_air_temperatures([Tr[i+1], Ts[i+1], TFe[i+1]], par)\n",
    "end\n",
    "# Storing in some good names for later use\n",
    "Tr_ODE_counter_current_model1,Ts_ODE_counter_current_model1,\n",
    "TFe_ODE_counter_current_model1,Tac_ODE_counter_current_model1,\n",
    "Tad_ODE_counter_current_model1,\n",
    "Tah_ODE_counter_current_model1,t_ODE_counter_current_model1 = Tr, Ts, TFe, Tac, Tad, Tah, t_sim\n",
    "#\n",
    "plot(t_ODE_counter_current_model1/60,Tr_ODE_counter_current_model1)\n",
    "plot!(t_ODE_counter_current_model1/60,Ts_ODE_counter_current_model1)\n",
    "plot!(t_ODE_counter_current_model1/60,TFe_ODE_counter_current_model1)"
   ]
  },
  {
   "cell_type": "code",
   "execution_count": 12,
   "metadata": {},
   "outputs": [
    {
     "data": {
      "text/plain": [
       "10×1 Array{Float64,2}:\n",
       " 0.0\n",
       " 0.0\n",
       " 0.0\n",
       " 0.0\n",
       " 0.0\n",
       " 0.0\n",
       " 0.0\n",
       " 0.0\n",
       " 0.0\n",
       " 0.0"
      ]
     },
     "execution_count": 12,
     "metadata": {},
     "output_type": "execute_result"
    }
   ],
   "source": [
    "Tac=zeros(10,1)"
   ]
  },
  {
   "cell_type": "code",
   "execution_count": 16,
   "metadata": {},
   "outputs": [
    {
     "data": {
      "text/plain": [
       "3.0"
      ]
     },
     "execution_count": 16,
     "metadata": {},
     "output_type": "execute_result"
    }
   ],
   "source": [
    "Tac; Tad; Tah=3*ones(10,1)\n",
    "Tac\n"
   ]
  },
  {
   "cell_type": "code",
   "execution_count": null,
   "metadata": {},
   "outputs": [],
   "source": []
  }
 ],
 "metadata": {
  "kernelspec": {
   "display_name": "Julia 1.0.3",
   "language": "julia",
   "name": "julia-1.0"
  },
  "language_info": {
   "file_extension": ".jl",
   "mimetype": "application/julia",
   "name": "julia",
   "version": "1.0.3"
  }
 },
 "nbformat": 4,
 "nbformat_minor": 2
}
