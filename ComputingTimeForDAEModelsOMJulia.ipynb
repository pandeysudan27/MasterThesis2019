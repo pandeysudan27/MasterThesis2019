{
 "cells": [
  {
   "cell_type": "markdown",
   "metadata": {},
   "source": [
    "# Computational time of DAE models using OMJulia"
   ]
  },
  {
   "cell_type": "code",
   "execution_count": 24,
   "metadata": {},
   "outputs": [],
   "source": [
    "using Plots; pyplot()\n",
    "using LaTeXStrings\n",
    "using DataFrames\n",
    "using OMJulia\n",
    "using ControlSystems;"
   ]
  },
  {
   "cell_type": "code",
   "execution_count": 7,
   "metadata": {},
   "outputs": [
    {
     "data": {
      "text/plain": [
       "model4a (generic function with 1 method)"
      ]
     },
     "execution_count": 7,
     "metadata": {},
     "output_type": "execute_result"
    }
   ],
   "source": [
    "function model1()\n",
    "    gen = OMJulia.OMCSession()\n",
    "    gen.ModelicaSystem(\"C:/Users/pande/Desktop/Desktop/Thesis/modelicaModel/Model1.mo\",\"Model1.SimGenerator\");\n",
    "    #\n",
    "    gen.setSimulationOptions([\"stopTime=30000.\",\"stepSize=20\"])\n",
    "    gen.simulate()\n",
    "end\n",
    "function model2()\n",
    "    gen = OMJulia.OMCSession()\n",
    "    gen.ModelicaSystem(\"C:/Users/pande/Desktop/Desktop/Thesis/modelicaModel/Model2.mo\",\"Model2.SimGenerator\");\n",
    "    #\n",
    "    gen.setSimulationOptions([\"stopTime=30000.\",\"stepSize=20\"])\n",
    "    gen.simulate()\n",
    "end\n",
    "function model3a()\n",
    "    gen = OMJulia.OMCSession()\n",
    "    gen.ModelicaSystem(\"C:/Users/pande/Desktop/Desktop/Thesis/modelicaModel/Model3a.mo\",\"Model3a.SimGenerator\");\n",
    "    #\n",
    "    gen.setSimulationOptions([\"stopTime=30000.\",\"stepSize=20\"])\n",
    "    gen.simulate()\n",
    "end\n",
    "function model4a()\n",
    "    gen = OMJulia.OMCSession()\n",
    "    gen.ModelicaSystem(\"C:/Users/pande/Desktop/Desktop/Thesis/modelicaModel/Model4a.mo\",\"Model4a.SimGenerator\");\n",
    "    #\n",
    "    gen.setSimulationOptions([\"stopTime=30000.\",\"stepSize=20\"])\n",
    "    gen.simulate()\n",
    "end"
   ]
  },
  {
   "cell_type": "code",
   "execution_count": 13,
   "metadata": {},
   "outputs": [
    {
     "data": {
      "text/plain": [
       "4×1 Array{Float64,2}:\n",
       " 9.393547527199999\n",
       " 9.186390102199999\n",
       " 9.8573010814     \n",
       " 9.4833962408     "
      ]
     },
     "execution_count": 13,
     "metadata": {},
     "output_type": "execute_result"
    }
   ],
   "source": [
    "# Calculating computational speed for solving models\n",
    "# Number run time N\n",
    "using Statistics\n",
    "N = 1000\n",
    "comput_time_DAE_OMJulia = zeros(4,N)\n",
    "#models=[\"model1()\",\"model2()\",\"model3a()\",\"model3b()\",\"model4a()\",\"model4b()\"]\n",
    "for i in 1:N\n",
    "    comput_time_DAE_OMJulia[1,i] = @elapsed model1()\n",
    "    comput_time_DAE_OMJulia[2,i] = @elapsed model2()\n",
    "    comput_time_DAE_OMJulia[3,i] = @elapsed model3a()\n",
    "    comput_time_DAE_OMJulia[4,i] = @elapsed model4a()\n",
    "end\n",
    "value=mean(comput_time_DAE_OMJulia,dims=2)"
   ]
  },
  {
   "cell_type": "code",
   "execution_count": null,
   "metadata": {},
   "outputs": [],
   "source": []
  }
 ],
 "metadata": {
  "kernelspec": {
   "display_name": "Julia 1.0.3",
   "language": "julia",
   "name": "julia-1.0"
  },
  "language_info": {
   "file_extension": ".jl",
   "mimetype": "application/julia",
   "name": "julia",
   "version": "1.0.3"
  }
 },
 "nbformat": 4,
 "nbformat_minor": 2
}
