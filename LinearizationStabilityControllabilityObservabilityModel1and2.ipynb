{
 "cells": [
  {
   "cell_type": "markdown",
   "metadata": {},
   "source": [
    "# Linearization, stability, observability, and controllability for Model 1 and 2."
   ]
  },
  {
   "cell_type": "code",
   "execution_count": 8,
   "metadata": {},
   "outputs": [],
   "source": [
    "# Author: Bernt Lie\n",
    "# Edited on purpose and use by: Madhusudhan Pandey\n",
    "# Necessary packages\n",
    "using DifferentialEquations\n",
    "using LinearAlgebra\n",
    "using Plots\n",
    "using Plots.PlotMeasures\n",
    "using LaTeXStrings\n",
    "pyplot();"
   ]
  },
  {
   "cell_type": "code",
   "execution_count": 9,
   "metadata": {},
   "outputs": [
    {
     "data": {
      "text/plain": [
       "(0.0, 18000.0)"
      ]
     },
     "execution_count": 9,
     "metadata": {},
     "output_type": "execute_result"
    }
   ],
   "source": [
    "# ODE model of Model1\n",
    "function model1(x,u,t)\n",
    "    # unpacking states\n",
    "    Tr = x[1]\n",
    "    Ts = x[2]\n",
    "    TFe = x[3]\n",
    "    # upacking inputs\n",
    "    Twc = u[1]\n",
    "    Ifd = u[2]\n",
    "    It = u[3]\n",
    "    QdFes = u[4]\n",
    "    Wdf = u[5]\n",
    "    mdw = u[6]\n",
    "    mda = u[7]\n",
    "    # parameters\n",
    "    chpa = 1.15\n",
    "    chpw = 4.2\n",
    "    chpCu = 0.385\n",
    "    chpFe = 0.465\n",
    "    # Masses\n",
    "    mr = 9260.\n",
    "    ms = 6827.\n",
    "    mFe = 71200.\n",
    "    # Heat transfer coefficients\n",
    "    UAr2d = 2.7\n",
    "    UAs2Fe = 20.\n",
    "    UAFe2a = 14.3\n",
    "    hAax = 55.6\n",
    "    hAwx = 222.\n",
    "    UAx = 1/(1/hAax+1/hAwx)\n",
    "    # Resistances\n",
    "    Rr = 0.127e-3\n",
    "    Rs = 1.95e-6\n",
    "    alphaCu=0.00404\n",
    "    TCu_o=25.\n",
    "    #\n",
    "    Qdfs = 0.8*Wdf\n",
    "    # Stanton numbers\n",
    "    NSta = UAx/chpa/mda\n",
    "    NStw = UAx/chpw/mdw\n",
    "    NStd = NStw - NSta\n",
    "    # Matrices\n",
    "    M1 = diagm(0=>[mr*chpCu , ms*chpCu , mFe*chpFe])\n",
    "    M2 = [-UAr2d 0. 0.; 0. -UAs2Fe UAs2Fe; 0. UAs2Fe -UAs2Fe-UAFe2a]\n",
    "    M3 = [0. UAr2d 0.; 0. 0. 0.; 0. 0. UAFe2a]\n",
    "    #\n",
    "    N1 = [-mda*chpa mda*chpa+UAr2d 0.; 0. -mda*chpa mda*chpa+UAFe2a; NStw-NSta*\n",
    "       exp(-NStd) 0. -NStd]\n",
    "    N2 = [UAr2d 0. 0.; 0. 0. UAFe2a; 0. 0. 0.]\n",
    "    #\n",
    "    v = [1.1*Rr*Ifd^2, 3*Rs*It^2, QdFes]\n",
    "    w = [Qdfs, 0., NSta*(1-exp(-NStd))*Twc]\n",
    "    #\n",
    "    z = N1\\(N2*x + w)\n",
    "    dxdt = M1\\(M2*x+M3*z + v)\n",
    "    return dxdt\n",
    "end\n",
    "\n",
    "# Inputs\n",
    "u = [3.8,1055.,5360.,212,528,53.9,49.2]\n",
    "# Initial states\n",
    "x0 = [28., 28., 28.]\n",
    "# Time span\n",
    "tspan = (0., 300*60.)"
   ]
  },
  {
   "cell_type": "code",
   "execution_count": 10,
   "metadata": {},
   "outputs": [
    {
     "name": "stderr",
     "output_type": "stream",
     "text": [
      "┌ Warning: Instability detected. Aborting\n",
      "└ @ DiffEqBase C:\\Users\\pande\\.julia\\packages\\DiffEqBase\\3gIPB\\src\\integrator_interface.jl:162\n"
     ]
    },
    {
     "data": {
      "text/plain": [
       "7-element Array{Float64,1}:\n",
       "    3.8\n",
       " 1055.0\n",
       " 5360.0\n",
       "  212.0\n",
       "  528.0\n",
       "   53.9\n",
       "   49.2"
      ]
     },
     "execution_count": 10,
     "metadata": {},
     "output_type": "execute_result"
    }
   ],
   "source": [
    "# findind steady state solution\n",
    "prob_steady_state = ODEProblem(model1,x0,(0.,Inf),u)\n",
    "sol_steady_state = solve(prob_steady_state,DynamicSS(Tsit5()))\n",
    "# steady state state values\n",
    "xs = sol_steady_state.u[end,1]\n",
    "# nominal inputs\n",
    "us = u"
   ]
  },
  {
   "cell_type": "code",
   "execution_count": 11,
   "metadata": {},
   "outputs": [
    {
     "data": {
      "text/plain": [
       "3×7 Array{Float64,2}:\n",
       " 0.000591328  8.26813e-5  0.0         0.0         …  -1.87037e-5  -2.55588e-5\n",
       " 0.0          0.0         2.38594e-5  0.0             0.0          0.0       \n",
       " 0.000269202  0.0         0.0         3.02042e-5     -8.51485e-6  -5.87091e-5"
      ]
     },
     "execution_count": 11,
     "metadata": {},
     "output_type": "execute_result"
    }
   ],
   "source": [
    "using ForwardDiff\n",
    "# functions in states and inputs\n",
    "fx(x) = model1(x,us,0)\n",
    "fu(u) = model1(xs,u,0)\n",
    "# Jacobians at operating points\n",
    "A = ForwardDiff.jacobian(fx,xs)\n",
    "B = ForwardDiff.jacobian(fu,us)"
   ]
  },
  {
   "cell_type": "code",
   "execution_count": 12,
   "metadata": {},
   "outputs": [
    {
     "data": {
      "text/plain": [
       "3-element Array{Float64,1}:\n",
       " 23.521373643877883 \n",
       " 62.693739754322685 \n",
       "  2.0237132526949364"
      ]
     },
     "execution_count": 12,
     "metadata": {},
     "output_type": "execute_result"
    }
   ],
   "source": [
    "# Calculating time constants\n",
    "# Eigen value of system matrix, A\n",
    "using LinearAlgebra\n",
    "# Eigenvector\n",
    "R = eigvecs(A)\n",
    "# Eigenvalues\n",
    "λ = eigvals(A)\n",
    "# Time Constants\n",
    "τ = - @. inv(λ)/60"
   ]
  },
  {
   "cell_type": "code",
   "execution_count": 13,
   "metadata": {},
   "outputs": [
    {
     "data": {
      "text/plain": [
       "3"
      ]
     },
     "execution_count": 13,
     "metadata": {},
     "output_type": "execute_result"
    }
   ],
   "source": [
    "# Controllability and observability\n",
    "using ControlSystems\n",
    "\n",
    "# Rank of matrix, A\n",
    "# System order\n",
    "rank_of_A = rank(A)\n",
    "# Controllability matrix\n",
    "ctrb_C = ctrb(A,B)\n",
    "# Rank of controlability matrix\n",
    "rank_of_ctrb_C=rank(ctrb_C)\n",
    "\n",
    "# Observability\n",
    "C = [0. 1. 1.]\n",
    "# Observability matrix\n",
    "obsv_O = obsv(A,C)\n",
    "rank_of_obsv_O=rank(obsv_O)"
   ]
  },
  {
   "cell_type": "code",
   "execution_count": 14,
   "metadata": {},
   "outputs": [
    {
     "name": "stderr",
     "output_type": "stream",
     "text": [
      "┌ Warning: Instability detected. Aborting\n",
      "└ @ DiffEqBase C:\\Users\\pande\\.julia\\packages\\DiffEqBase\\3gIPB\\src\\integrator_interface.jl:162\n"
     ]
    },
    {
     "data": {
      "text/plain": [
       "3-element Array{Float64,1}:\n",
       " 109.49580613517992\n",
       "  78.99196973704728\n",
       "  68.75554687333407"
      ]
     },
     "execution_count": 14,
     "metadata": {},
     "output_type": "execute_result"
    }
   ],
   "source": [
    "# ODE model of Model2\n",
    "function model2(x,u,t)\n",
    "    # unpacking states\n",
    "    Tr = x[1]\n",
    "    Ts = x[2]\n",
    "    TFe = x[3]\n",
    "    # upacking inputs\n",
    "    Twc = u[1]\n",
    "    Ifd = u[2]\n",
    "    It = u[3]\n",
    "    QdFes = u[4]\n",
    "    Wdf = u[5]\n",
    "    mdw = u[6]\n",
    "    mda = u[7]\n",
    "    # parameters\n",
    "    chpa = 1.15\n",
    "    chpw = 4.2\n",
    "    chpCu = 0.385\n",
    "    chpFe = 0.465\n",
    "    # Masses\n",
    "    mr = 9260.\n",
    "    ms = 6827.\n",
    "    mFe = 71200.\n",
    "    # Heat transfer coefficients\n",
    "    UAr2d = 2.7\n",
    "    UAs2Fe = 20.\n",
    "    UAFe2a = 14.3\n",
    "    hAax = 55.6\n",
    "    hAwx = 222.\n",
    "    UAx = 1/(1/hAax+1/hAwx)\n",
    "    # Resistances\n",
    "    Rr = 0.127e-3\n",
    "    Rs = 1.95e-6\n",
    "    alphaCu=0.00404\n",
    "    TCu_o=25.\n",
    "    #\n",
    "    Qdfs = 0.8*Wdf\n",
    "    # Stanton numbers\n",
    "    NSta = UAx/chpa/mda\n",
    "    NStw = UAx/chpw/mdw\n",
    "    NStd = NStw - NSta\n",
    "    # Matrices\n",
    "    M1 = diagm(0=>[mr*chpCu , ms*chpCu , mFe*chpFe])\n",
    "    M2 = [-UAr2d+1.1*Rr*Ifd^2*alphaCu 0. 0.; 0. -UAs2Fe+3*Rs*It^2*alphaCu UAs2Fe; 0. UAs2Fe -UAs2Fe-UAFe2a]\n",
    "    M3 = [0. UAr2d 0.; 0. 0. 0.; 0. 0. UAFe2a]\n",
    "    #\n",
    "    N1 = [-mda*chpa mda*chpa+UAr2d 0.; 0. -mda*chpa mda*chpa+UAFe2a; NStw-NSta*\n",
    "       exp(-NStd) 0. -NStd]\n",
    "    N2 = [UAr2d 0. 0.; 0. 0. UAFe2a; 0. 0. 0.]\n",
    "    #\n",
    "    v = [1.1*Rr*(1-alphaCu*TCu_o)*Ifd^2, 3*Rs*(1-alphaCu*TCu_o)*It^2, QdFes]\n",
    "    w = [Qdfs, 0., NSta*(1-exp(-NStd))*Twc]\n",
    "    #\n",
    "    z = N1\\(N2*x + w)\n",
    "    dxdt = M1\\(M2*x+M3*z + v)\n",
    "    return dxdt\n",
    "end\n",
    "\n",
    "# Inputs\n",
    "u = [3.8,1055.,5360.,212,528,53.9,49.2]\n",
    "# Initial states\n",
    "x0 = [28., 28., 28.]\n",
    "# Time span\n",
    "tspan = (0., 300*60.)\n",
    "\n",
    "# findind steady state solution\n",
    "prob_steady_state = ODEProblem(model2,x0,(0.,Inf),u)\n",
    "sol_steady_state = solve(prob_steady_state,DynamicSS(Tsit5()))\n",
    "# steady state state values\n",
    "xs = sol_steady_state.u[end,1]"
   ]
  },
  {
   "cell_type": "code",
   "execution_count": 15,
   "metadata": {},
   "outputs": [
    {
     "data": {
      "text/plain": [
       "3×7 Array{Float64,2}:\n",
       " 0.000591328  0.000110906  0.0         …  -2.04558e-5  -2.76863e-5\n",
       " 0.0          0.0          2.90638e-5      0.0          0.0       \n",
       " 0.000269202  0.0          0.0            -9.3125e-6   -6.42182e-5"
      ]
     },
     "execution_count": 15,
     "metadata": {},
     "output_type": "execute_result"
    }
   ],
   "source": [
    "# nominal inputs\n",
    "us = u\n",
    "\n",
    "using ForwardDiff\n",
    "# functions in states and inputs\n",
    "fx(x) = model2(x,us,0)\n",
    "fu(u) = model2(xs,u,0)\n",
    "# Jacobians at operating points\n",
    "A = ForwardDiff.jacobian(fx,xs)\n",
    "B = ForwardDiff.jacobian(fu,us)"
   ]
  },
  {
   "cell_type": "code",
   "execution_count": 16,
   "metadata": {},
   "outputs": [
    {
     "data": {
      "text/plain": [
       "3-element Array{Float64,1}:\n",
       " 31.12677552568101  \n",
       " 68.92052039063147  \n",
       "  2.0837756429466143"
      ]
     },
     "execution_count": 16,
     "metadata": {},
     "output_type": "execute_result"
    }
   ],
   "source": [
    "# Calculating time constants\n",
    "# Eigen value of system matrix, A\n",
    "using LinearAlgebra\n",
    "# Eigenvector\n",
    "R = eigvecs(A)\n",
    "# Eigenvalues\n",
    "λ = eigvals(A)\n",
    "# Time Constants\n",
    "τ = - @. inv(λ)/60"
   ]
  },
  {
   "cell_type": "code",
   "execution_count": 17,
   "metadata": {},
   "outputs": [
    {
     "data": {
      "text/plain": [
       "3"
      ]
     },
     "execution_count": 17,
     "metadata": {},
     "output_type": "execute_result"
    }
   ],
   "source": [
    "# Controllability and observability\n",
    "using ControlSystems\n",
    "\n",
    "# Rank of matrix, A\n",
    "# System order\n",
    "rank_of_A = rank(A)\n",
    "# Controllability matrix\n",
    "ctrb_C = ctrb(A,B)\n",
    "# Rank of controlability matrix\n",
    "rank_of_ctrb_C=rank(ctrb_C)"
   ]
  },
  {
   "cell_type": "code",
   "execution_count": 18,
   "metadata": {},
   "outputs": [
    {
     "data": {
      "text/plain": [
       "3"
      ]
     },
     "execution_count": 18,
     "metadata": {},
     "output_type": "execute_result"
    }
   ],
   "source": [
    "# Observability\n",
    "C = [1. 1. 0.]\n",
    "# Observability matrix\n",
    "obsv_O = obsv(A,C)\n",
    "rank_of_obsv_O=rank(obsv_O)"
   ]
  }
 ],
 "metadata": {
  "kernelspec": {
   "display_name": "Julia 1.0.3",
   "language": "julia",
   "name": "julia-1.0"
  },
  "language_info": {
   "file_extension": ".jl",
   "mimetype": "application/julia",
   "name": "julia",
   "version": "1.0.3"
  }
 },
 "nbformat": 4,
 "nbformat_minor": 2
}
