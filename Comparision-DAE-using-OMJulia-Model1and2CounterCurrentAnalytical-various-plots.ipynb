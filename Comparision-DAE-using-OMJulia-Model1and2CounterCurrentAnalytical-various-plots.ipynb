{
 "cells": [
  {
   "cell_type": "code",
   "execution_count": 1,
   "metadata": {},
   "outputs": [
    {
     "name": "stderr",
     "output_type": "stream",
     "text": [
      "┌ Info: Recompiling stale cache file C:\\Users\\pande\\.julia\\compiled\\v1.0\\OMJulia\\TnZao.ji for OMJulia [b9c49fa3-9548-50ca-88f4-bcd0bd4a191f]\n",
      "└ @ Base loading.jl:1190\n",
      "┌ Warning: Package OMJulia does not have ZMQ in its dependencies:\n",
      "│ - If you have OMJulia checked out for development and have\n",
      "│   added ZMQ as a dependency but haven't updated your primary\n",
      "│   environment's manifest file, try `Pkg.resolve()`.\n",
      "│ - Otherwise you may need to report an issue with OMJulia\n",
      "└ Loading ZMQ into OMJulia from project dependency, future warnings for OMJulia are suppressed.\n"
     ]
    }
   ],
   "source": [
    "using Plots; pyplot()\n",
    "using LaTeXStrings\n",
    "using DataFrames\n",
    "using OMJulia\n",
    "using ControlSystems;"
   ]
  },
  {
   "cell_type": "code",
   "execution_count": 2,
   "metadata": {},
   "outputs": [],
   "source": [
    "# Plot path\n",
    "figpath = \"../figs/\";\n",
    "# Linewidths and styles\n",
    "LW1 = 2.5\n",
    "LW2 = 1.5\n",
    "LS1 = :solid\n",
    "LS2 = :dot\n",
    "LS3 = :dashdot\n",
    "LS4 = :dash;"
   ]
  },
  {
   "cell_type": "code",
   "execution_count": 3,
   "metadata": {},
   "outputs": [],
   "source": [
    "gen = OMJulia.OMCSession()\n",
    "gen.ModelicaSystem(\"C:/Users/pande/Desktop/Desktop/Thesis/modelicaModel/HeatExchangerModel.mo\",\"Generator.SimGenerator\")\n",
    "gen.setSimulationOptions([\"stopTime=$(300*60)\",\"stepSize=20\"])\n"
   ]
  },
  {
   "cell_type": "code",
   "execution_count": 4,
   "metadata": {},
   "outputs": [],
   "source": [
    "gen.simulate()"
   ]
  },
  {
   "cell_type": "code",
   "execution_count": 5,
   "metadata": {},
   "outputs": [
    {
     "data": {
      "image/png": "[encoded data removed]"
     },
     "execution_count": 5,
     "metadata": {},
     "output_type": "execute_result"
    }
   ],
   "source": [
    "\n",
    "#\n",
    "tm,Tr,Ts,TFe = gen.getSolutions([\"time\",\"G.Tr\",\"G.Ts\",\"G.TFe\"])\n",
    "Tac,Tad,Tah,Twc,Twh = gen.getSolutions([\"G.Tac\",\"G.Tad\",\"G.Tah\",\"G.Twc\",\"G.Twh\"\n",
    "])\n",
    "Qdrs,Qdss,QdFes ,Qdfs = gen.getSolutions([\"G.Qdrs\",\"G.Qdss\",\"G.QdFes\",\"G.Qdfs\"])\n",
    "Qdr2d ,Qds2Fe ,QdFe2a = gen.getSolutions([\"G.Qdr2d\",\"G.Qds2Fe\",\"G.QdFe2a\"])\n",
    "#\n",
    "mda,mdw,chpa,chpw = gen.getSolutions([\"G.mda\",\"G.mdw\",\"G.chpa\",\"G.chpw\"])\n",
    "#\n",
    "Hdac,Hdad,Hdah = gen.getSolutions([\"G.Hdac\",\"G.Hdad\",\"G.Hdah\"]);\n",
    "Qdw2a , = gen.getSolutions([\"G.Qdw2a\"]);\n",
    "plot(tm/60,Tr,lc=:darkkhaki ,lw=LW1,label=L\"$T_\\mathrm{r}$\")\n",
    "plot!(tm/60,Ts,lc=:darkgoldenrod ,lw=LW1,label=L\"$T_\\mathrm{s}$\")\n",
    "plot!(tm/60,TFe,lc=:darkgrey ,lw=LW1,label=L\"$T_\\mathrm{Fe}$\")\n",
    "plot!(xlabel=\"time[min]\",ylabel=L\"$T$␣[${}^\\circ$C]\" )\n",
    "plot!(title=\"Generator metal temperatures\")\n",
    "plot!(xlim=(0,300))"
   ]
  },
  {
   "cell_type": "code",
   "execution_count": 6,
   "metadata": {},
   "outputs": [
    {
     "data": {
      "text/plain": [
       "\"true\\n\""
      ]
     },
     "execution_count": 6,
     "metadata": {},
     "output_type": "execute_result"
    }
   ],
   "source": []
  },
  {
   "cell_type": "code",
   "execution_count": 5,
   "metadata": {},
   "outputs": [
    {
     "ename": "Base.IOError",
     "evalue": "IOError: could not spawn `omc --interactive=zmq +z=julia.pPLLIHUloX`: no such file or directory (ENOENT)",
     "output_type": "error",
     "traceback": [
      "IOError: could not spawn `omc --interactive=zmq +z=julia.pPLLIHUloX`: no such file or directory (ENOENT)",
      "",
      "Stacktrace:",
      " [1] _jl_spawn(::String, ::Array{String,1}, ::Cmd, ::Tuple{Base.DevNull,Base.PipeEndpoint,Base.PipeEndpoint}) at .\\process.jl:367",
      " [2] (::getfield(Base, Symbol(\"##493#494\")){Cmd})(::Tuple{Base.DevNull,Base.PipeEndpoint,Base.PipeEndpoint}) at .\\process.jl:509",
      " [3] setup_stdio(::getfield(Base, Symbol(\"##493#494\")){Cmd}, ::Tuple{Base.DevNull,Pipe,IJulia.IJuliaStdio{Base.PipeEndpoint}}) at .\\process.jl:490",
      " [4] #_spawn#492(::Nothing, ::Function, ::Cmd, ::Tuple{Base.DevNull,Pipe,IJulia.IJuliaStdio{Base.PipeEndpoint}}) at .\\process.jl:508",
      " [5] _spawn(::Cmd, ::Tuple{Base.DevNull,Pipe,IJulia.IJuliaStdio{Base.PipeEndpoint}}) at .\\process.jl:504",
      " [6] #open#502(::Bool, ::Bool, ::Function, ::Cmd, ::Base.DevNull) at .\\process.jl:594",
      " [7] open at .\\process.jl:584 [inlined] (repeats 2 times)",
      " [8] OMJulia.OMCSession() at C:\\Users\\pande\\.julia\\dev\\OMJulia\\src\\OMJulia.jl:125",
      " [9] top-level scope at In[5]:1"
     ]
    }
   ],
   "source": [
    "gen1 = OMJulia.OMCSession()"
   ]
  },
  {
   "cell_type": "code",
   "execution_count": 6,
   "metadata": {},
   "outputs": [
    {
     "ename": "Base.IOError",
     "evalue": "IOError: could not spawn `omc --interactive=zmq +z=julia.mUbfz49MFP`: no such file or directory (ENOENT)",
     "output_type": "error",
     "traceback": [
      "IOError: could not spawn `omc --interactive=zmq +z=julia.mUbfz49MFP`: no such file or directory (ENOENT)",
      "",
      "Stacktrace:",
      " [1] _jl_spawn(::String, ::Array{String,1}, ::Cmd, ::Tuple{Base.DevNull,Base.PipeEndpoint,Base.PipeEndpoint}) at .\\process.jl:367",
      " [2] (::getfield(Base, Symbol(\"##493#494\")){Cmd})(::Tuple{Base.DevNull,Base.PipeEndpoint,Base.PipeEndpoint}) at .\\process.jl:509",
      " [3] setup_stdio(::getfield(Base, Symbol(\"##493#494\")){Cmd}, ::Tuple{Base.DevNull,Pipe,IJulia.IJuliaStdio{Base.PipeEndpoint}}) at .\\process.jl:490",
      " [4] #_spawn#492(::Nothing, ::Function, ::Cmd, ::Tuple{Base.DevNull,Pipe,IJulia.IJuliaStdio{Base.PipeEndpoint}}) at .\\process.jl:508",
      " [5] _spawn(::Cmd, ::Tuple{Base.DevNull,Pipe,IJulia.IJuliaStdio{Base.PipeEndpoint}}) at .\\process.jl:504",
      " [6] #open#502(::Bool, ::Bool, ::Function, ::Cmd, ::Base.DevNull) at .\\process.jl:594",
      " [7] open at .\\process.jl:584 [inlined] (repeats 2 times)",
      " [8] OMJulia.OMCSession() at C:\\Users\\pande\\.julia\\dev\\OMJulia\\src\\OMJulia.jl:125",
      " [9] top-level scope at In[6]:1"
     ]
    }
   ],
   "source": [
    "gen1 = OMJulia.OMCSession()"
   ]
  },
  {
   "cell_type": "code",
   "execution_count": null,
   "metadata": {},
   "outputs": [],
   "source": []
  }
 ],
 "metadata": {
  "kernelspec": {
   "display_name": "Julia 1.0.3",
   "language": "julia",
   "name": "julia-1.0"
  },
  "language_info": {
   "file_extension": ".jl",
   "mimetype": "application/julia",
   "name": "julia",
   "version": "1.0.3"
  }
 },
 "nbformat": 4,
 "nbformat_minor": 2
}
